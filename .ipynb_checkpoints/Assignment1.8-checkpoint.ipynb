{
 "cells": [
  {
   "cell_type": "markdown",
   "metadata": {},
   "source": [
    "### Problem Statement\n",
    "\n",
    "Write a Python Program to print the given string in the format specified in the sample\n",
    "output.\n",
    "WE, THE PEOPLE OF INDIA, having solemnly resolved to constitute India into a\n",
    "SOVEREIGN, SOCIALIST, SECULAR, DEMOCRATIC REPUBLIC and to secure to all\n",
    "its citizens\n",
    "WE, THE PEOPLE OF INDIA,\n",
    "      having solemnly resolved to constitute India into a SOVEREIGN, !\n",
    "            SOCIALIST, SECULAR, DEMOCRATIC REPUBLIC\n",
    "             and to secure to all its citizens:"
   ]
  },
  {
   "cell_type": "code",
   "execution_count": 53,
   "metadata": {
    "collapsed": true
   },
   "outputs": [],
   "source": [
    "given_string = \"WE, THE PEOPLE OF INDIA, having solemnly resolved to constitute India into a SOVEREIGN, SOCIALIST, SECULAR, DEMOCRATIC REPUBLIC and to secure to all its citizens\""
   ]
  },
  {
   "cell_type": "code",
   "execution_count": 54,
   "metadata": {},
   "outputs": [],
   "source": [
    "given_string=given_string.replace(\"INDIA,\",\"INDIA,\\n\\t\")\n",
    "given_string=given_string.replace(\"SOVEREIGN,\",\"SOVEREIGN,!\\n\\t\\t\")\n",
    "given_string=given_string.replace(\"REPUBLIC\",\"REPUBLIC\\n\\t\\t \")\n",
    "given_string=given_string.replace(\"citizens\",\"citizens:\")"
   ]
  },
  {
   "cell_type": "code",
   "execution_count": 55,
   "metadata": {},
   "outputs": [
    {
     "name": "stdout",
     "output_type": "stream",
     "text": [
      "WE, THE PEOPLE OF INDIA,\n",
      "\t having solemnly resolved to constitute India into a SOVEREIGN,!\n",
      "\t\t SOCIALIST, SECULAR, DEMOCRATIC REPUBLIC\n",
      "\t\t  and to secure to all its citizens:\n"
     ]
    }
   ],
   "source": [
    "print(given_string)"
   ]
  },
  {
   "cell_type": "code",
   "execution_count": null,
   "metadata": {
    "collapsed": true
   },
   "outputs": [],
   "source": []
  }
 ],
 "metadata": {
  "kernelspec": {
   "display_name": "Python 3",
   "language": "python",
   "name": "python3"
  },
  "language_info": {
   "codemirror_mode": {
    "name": "ipython",
    "version": 3
   },
   "file_extension": ".py",
   "mimetype": "text/x-python",
   "name": "python",
   "nbconvert_exporter": "python",
   "pygments_lexer": "ipython3",
   "version": "3.6.3"
  }
 },
 "nbformat": 4,
 "nbformat_minor": 2
}
